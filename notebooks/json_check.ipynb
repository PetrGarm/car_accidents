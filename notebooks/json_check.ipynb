{
 "cells": [
  {
   "cell_type": "code",
   "execution_count": 1,
   "metadata": {},
   "outputs": [],
   "source": [
    "import json"
   ]
  },
  {
   "cell_type": "code",
   "execution_count": 11,
   "metadata": {},
   "outputs": [],
   "source": [
    "json_raw = None\n",
    "with open(\"../../GibddStat/dtpdata/2020/45 г. Москва 5-5.2020.json\", 'rb') as json_file:\n",
    "    json_raw = json.loads(json_file.read())"
   ]
  },
  {
   "cell_type": "code",
   "execution_count": 12,
   "metadata": {},
   "outputs": [],
   "source": [
    "json_data = json_raw['data']"
   ]
  },
  {
   "cell_type": "code",
   "execution_count": 15,
   "metadata": {},
   "outputs": [],
   "source": [
    "json_data = json.loads(json_data)"
   ]
  },
  {
   "cell_type": "code",
   "execution_count": 20,
   "metadata": {},
   "outputs": [],
   "source": [
    "gibdd_cards = json_data['cards']"
   ]
  },
  {
   "cell_type": "code",
   "execution_count": 22,
   "metadata": {},
   "outputs": [
    {
     "data": {
      "text/plain": [
       "{'KartId': 220533654,\n",
       " 'rowNum': 2,\n",
       " 'date': '16.05.2020',\n",
       " 'Time': '01:31',\n",
       " 'District': 'Хорошево-Мневники',\n",
       " 'DTP_V': 'Наезд на пешехода',\n",
       " 'POG': 1,\n",
       " 'RAN': 0,\n",
       " 'K_TS': 1,\n",
       " 'K_UCH': 2,\n",
       " 'infoDtp': {'ndu': ['Не установлены'],\n",
       "  'sdor': ['Перегон (нет объектов на месте ДТП)'],\n",
       "  'ts_info': [{'n_ts': '1',\n",
       "    'ts_s': 'Осталось на месте ДТП',\n",
       "    't_ts': 'В-класс (малый) до 3,9 м',\n",
       "    'marka_ts': 'HYUNDAI',\n",
       "    'm_ts': 'Solaris',\n",
       "    'color': 'Белый',\n",
       "    'r_rul': 'С передним приводом',\n",
       "    'g_v': '2016',\n",
       "    'm_pov': '',\n",
       "    't_n': 'Технические неисправности отсутствуют',\n",
       "    'f_sob': 'Частная собственность',\n",
       "    'o_pf': 'Физические лица',\n",
       "    'ts_uch': [{'K_UCH': 'Водитель',\n",
       "      'NPDD': ['Нет нарушений'],\n",
       "      'S_T': 'Не пострадал',\n",
       "      'POL': 'Мужской',\n",
       "      'V_ST': '8',\n",
       "      'ALCO': '',\n",
       "      'SOP_NPDD': ['Другие нарушения ПДД водителем'],\n",
       "      'SAFETY_BELT': 'Нет',\n",
       "      'S_SM': 'Нет (не скрывался)',\n",
       "      'N_UCH': '2',\n",
       "      'S_SEAT_GROUP': '',\n",
       "      'INJURED_CARD_ID': ''}]}],\n",
       "  'n_p': 'г Москва',\n",
       "  'street': 'ул Народного Ополчения',\n",
       "  'house': '22',\n",
       "  'dor': '',\n",
       "  'km': '',\n",
       "  'm': '',\n",
       "  'k_ul': 'Магистральные улицы общегородского значения',\n",
       "  'dor_k': '',\n",
       "  'dor_z': 'Местного значения (дорога местного значения, включая относящиеся к собственности поселений, муниципальных районов, городских округов)',\n",
       "  'factor': ['Сведения отсутствуют'],\n",
       "  's_pog': ['Пасмурно'],\n",
       "  's_pch': 'Сухое',\n",
       "  'osv': 'В темное время суток, освещение включено',\n",
       "  'change_org_motion': 'Движение частично перекрыто',\n",
       "  's_dtp': '850',\n",
       "  'COORD_W': '55.778987',\n",
       "  'COORD_L': '37.479343',\n",
       "  'OBJ_DTP': ['Остановка общественного транспорта',\n",
       "   'Крупный торговый объект (являющийся объектом массового тяготения пешеходов и (или) транспорта)',\n",
       "   'Надземный пешеходный переход',\n",
       "   'Многоквартирные жилые дома'],\n",
       "  'uchInfo': [{'K_UCH': 'Пешеход',\n",
       "    'NPDD': ['Нахождение на проезжей части без цели её перехода'],\n",
       "    'S_T': 'Скончался в течение 29 суток',\n",
       "    'POL': 'Женский',\n",
       "    'V_ST': '',\n",
       "    'ALCO': '',\n",
       "    'SOP_NPDD': ['Нет нарушений'],\n",
       "    'S_SM': 'Нет (не скрывался)',\n",
       "    'N_UCH': '1'}]}}"
      ]
     },
     "execution_count": 22,
     "metadata": {},
     "output_type": "execute_result"
    }
   ],
   "source": [
    "gibdd_cards[1]"
   ]
  },
  {
   "cell_type": "code",
   "execution_count": null,
   "metadata": {},
   "outputs": [],
   "source": []
  }
 ],
 "metadata": {
  "kernelspec": {
   "display_name": "Python 3",
   "language": "python",
   "name": "python3"
  },
  "language_info": {
   "codemirror_mode": {
    "name": "ipython",
    "version": 3
   },
   "file_extension": ".py",
   "mimetype": "text/x-python",
   "name": "python",
   "nbconvert_exporter": "python",
   "pygments_lexer": "ipython3",
   "version": "3.8.5"
  }
 },
 "nbformat": 4,
 "nbformat_minor": 4
}
